{
 "cells": [
  {
   "cell_type": "markdown",
   "metadata": {},
   "source": [
    "##  Cognitive Service의 이해와 활용"
   ]
  },
  {
   "cell_type": "markdown",
   "metadata": {},
   "source": [
    "- cognitive 서비스 : 뇌과학에서 사용되던 단어 .  \n",
    "뇌의 사고방식, 뇌가 어떻게 인지하고 인식하다  \n",
    "\n",
    "- Pre-Built AI : 이미 만들어져서 탑재되 있는 AI / cognitive 서비스는  Pre-Built의 가장 대표적인 예"
   ]
  },
  {
   "cell_type": "markdown",
   "metadata": {},
   "source": [
    "AI 플랫폼을 구별하는 방법 :  Pre-Built AI, CONVERSATIONAL AI, CUSTUM AI\n",
    "\n",
    "CONVERSATIONAL AI : 대화형 AI ex) 챗봇, 자연어처리, 음성 처리  \n",
    "CUSTUM AI : customizing 되어있는 AI"
   ]
  },
  {
   "cell_type": "markdown",
   "metadata": {},
   "source": [
    "Cognitive Service : \n",
    "\n",
    "1) computer vision 에 가장 많이 쓰인다.\n",
    "ex) 사물 구별, 글자 인식, 얼굴 안면 인식, emotion 확인\n",
    "\n",
    "2) speech 분야\n",
    "ex) speech to Text엔진, TTS(text to Speech) 엔진, 자연어 처리를 위한 다양한 기법들"
   ]
  },
  {
   "cell_type": "markdown",
   "metadata": {},
   "source": [
    "- cognitive 서비스를 사용할 때 접근 방법\n",
    "\n",
    "1) cognitive 서비스 Trial을 사용하는 것\n",
    "\n",
    "url : https://azure.microsoft.com/en-us/try/cognitive-services/my-apis/\n",
    "\n",
    "2) 학교에서 제공하는 이메일 주소 이용/ 마이크로소프트에 신청하면 100불이면 가능\n",
    "\n",
    "3) Azure trial 계정 사용하는 방법"
   ]
  },
  {
   "cell_type": "code",
   "execution_count": null,
   "metadata": {},
   "outputs": [],
   "source": []
  }
 ],
 "metadata": {
  "kernelspec": {
   "display_name": "Python 3",
   "language": "python",
   "name": "python3"
  },
  "language_info": {
   "codemirror_mode": {
    "name": "ipython",
    "version": 3
   },
   "file_extension": ".py",
   "mimetype": "text/x-python",
   "name": "python",
   "nbconvert_exporter": "python",
   "pygments_lexer": "ipython3",
   "version": "3.7.6"
  }
 },
 "nbformat": 4,
 "nbformat_minor": 4
}
