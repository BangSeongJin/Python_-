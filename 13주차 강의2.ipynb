{
 "cells": [
  {
   "cell_type": "markdown",
   "metadata": {},
   "source": [
    "## 13주차: 이상 탐지와 챗봇 서비스"
   ]
  },
  {
   "cell_type": "markdown",
   "metadata": {},
   "source": [
    "### 2. AI Chatbot의 이해와 실습(1)"
   ]
  },
  {
   "cell_type": "markdown",
   "metadata": {},
   "source": [
    "ex) 아이폰 Siri, 구글 안드로이드...\n",
    "\n",
    "=> Conversational AI"
   ]
  },
  {
   "cell_type": "markdown",
   "metadata": {},
   "source": [
    "지금 현재 Chatbot Platform을 제공하고 있는 업체들은 굉장히 많은 업체들이 제공하고 있다.\n",
    "\n",
    "Facebook Messenger Platform, Telegram Bots 이런 것들은 만들고 나면 항상 자기 Platform만 지원한다는 게 한계점이다.\n",
    "\n",
    "우리가 사용하고 있는 Messenger의 종류는 생각보다 굉장히 많이 있습니다 카카오톡 혹은 뭐 Facebook Messenger 그리고 또 네이버의 Messenger 서비스 비슷한 것도 있고요 다음에 Telegram 다음에 Line 굉장히 많은 종류들을 어떻게 다 지원을 할 것인가 이런 것들에 대한 고민이 함께 발생이 될 겁니다\n",
    "\n",
    "그런데 그런 고민들에 앞서서 모든 Chatbot Platform에서 공통적으로 지원하고 있는 게 바로 여기서 볼 수 있는 거와 같이 피자 배달 하는 기능입니다\n",
    "\n",
    "이유는 일단 피자라는 이 타켓 자체가 굉장히 수월하게 접근할 수 있는\n",
    "그런 분야인데요 왜 그러냐면 어느 정도 그 process가 굉장히 정형화되어 있는 분야이기도 하고 그리고 또 가장 협조가 잘 되는 분야이기도 해서 피자 bot을 굉장히 많이 만들고 있습니다\n",
    "\n",
    "그래서 세상에 존재하는 Chatbot은 거의 다 Chatbot Platform에는 다\n",
    "피자를 주문할 수 있는 기능이 들어있다 얘기할 수 있을 정도로 피자를 가장 많이 합니다"
   ]
  },
  {
   "cell_type": "markdown",
   "metadata": {},
   "source": [
    "- Chatbot을 만들 때 주요 기술들 -\n",
    "\n",
    "1) 패턴인식 : 사진을 분석, 사람의 목소리를 통해 새로운 정보 인식  \n",
    "=> cognitive service가 이런 역할을 함     \n",
    "\n",
    "2) 자연어처리 : 인간이 쓰는 언어를 컴퓨터에 인식시켜 처리함   \n",
    "=>사실 이 자연어처리가 안 되면 Chatbot의 어떤 인공지능 적인 요소보다는 어떤 sequential 어떤 순차적인 절차에 의해서 업무를 처리 하는\n",
    "그런 형태의 서비스가 되는 경우들이 많다. ARS 서비스 \n",
    "\n",
    "3) 시멘틱 웹 : 컴퓨터가 정보 자원의 뜻을 이해하고 논리적 추론까지 할 수 있는 차세대 지능형 웹  \n",
    "\n",
    "4) 텍스트 마이닝 : Text 기반의 수많은 정보들 중에서 내가 필요한 것을 찾아서 대답을 해준다   \n",
    "=> Chatbot이 가장 빨리 그리고 가장 많이 도입되어 있는 분야가 바로 고객센터다. 그래서 이런 것들에 사용하게 되면 그 보통 일반적으로 고객센터에 몰리는 거의 한 80% 이상의 단순 반복적인 질문들을 많이 처리를 할 수 있게 됩니다.  \n",
    "\n",
    "5) 상황인식 컴퓨팅 : 가상공간에서 현실의 상황을 정보화하고 이를 활용하여 사용자 중심의 지능화된 서비스를 제공하는 기술 \n"
   ]
  },
  {
   "cell_type": "markdown",
   "metadata": {},
   "source": [
    "-----------------------------------------------------------------\n",
    "그러면 이런 chatbot을 어떻게 만들거냐?\n",
    "\n",
    "=> Chatbot을 만들기 위해서는 기본적으로 Platform이 필요합니다"
   ]
  },
  {
   "cell_type": "markdown",
   "metadata": {},
   "source": [
    "## 14주차 강의 (이어서)"
   ]
  },
  {
   "cell_type": "markdown",
   "metadata": {},
   "source": [
    "'LUIS' : 가장 대표적인 자연어처리 서비스 중에 하나, 클라우드 베이스로 되어 있기 때문에 속도도 빠르고 그리고 사용이 편리하다는 장점이 있다. Cognitive Service 안에서 제공하고 있는 자연어처리 엔진 중에 하나이다."
   ]
  },
  {
   "cell_type": "markdown",
   "metadata": {},
   "source": [
    "### 3. AI Chatbot의 이해와 실습(2)"
   ]
  },
  {
   "cell_type": "markdown",
   "metadata": {},
   "source": [
    "chatbot과 관련되어 있는 서비스 중에 'Bot Framework' 가 있다.\n",
    "    \n",
    "이 외에도 STT/TTS 그래서 speech to text, text to speech 이런 서비스들이 필요하다.\n",
    "\n",
    "그리고 NLP(자연어처리) 엔진 필요  \n",
    "\n",
    "그리고 Text Mining, text 안에서 우리가 의미 있는 장보를 찾아 내는 그런 작업이 필요하다."
   ]
  },
  {
   "cell_type": "markdown",
   "metadata": {},
   "source": [
    "#### NLP 과정"
   ]
  },
  {
   "cell_type": "markdown",
   "metadata": {},
   "source": [
    "\"Show me yesterday's financial news\"\n",
    "\n",
    "- Utterance : 전체 문장\n",
    "- Entity : 중요한 요소 => yesterday's, financial, news\n",
    "- Intent : 이 문장의 의도 파악 => show News\n",
    "  \n",
    " 각각의 Intent와 Entity로 이렇게 잘 파악을 해서 거기에 맞는 사용자들의 의도를 파악하고 그리고 사람들의 말 속에 숨어 있는 중요한 Entity 키워드들을 뽑아서 그것을 활용할 수 있게끔 해 주는 것이 자연어처리이다."
   ]
  },
  {
   "cell_type": "code",
   "execution_count": null,
   "metadata": {},
   "outputs": [],
   "source": []
  }
 ],
 "metadata": {
  "kernelspec": {
   "display_name": "Python 3",
   "language": "python",
   "name": "python3"
  },
  "language_info": {
   "codemirror_mode": {
    "name": "ipython",
    "version": 3
   },
   "file_extension": ".py",
   "mimetype": "text/x-python",
   "name": "python",
   "nbconvert_exporter": "python",
   "pygments_lexer": "ipython3",
   "version": "3.7.6"
  }
 },
 "nbformat": 4,
 "nbformat_minor": 4
}
