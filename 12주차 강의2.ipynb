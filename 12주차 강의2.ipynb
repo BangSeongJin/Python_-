{
 "cells": [
  {
   "cell_type": "markdown",
   "metadata": {},
   "source": [
    "## 2. Custom Vision의 이해와 실습"
   ]
  },
  {
   "cell_type": "markdown",
   "metadata": {},
   "source": [
    "ex) 앞에 있는 차들이 슝슝 지나가요 근데 내가 차들에 대한 사진이 뭐 각 차종별로 한 백장씩 해서 한 1만장이 있습니다 그러면 그 차 들을 가지고 그 사진들을 가지고 열심히 학습을 시켜 놓으면 지나가는 차들을 사진만 찍어도 이 차의 차종이 뭐다 이 차는 어떤 거다 라는 것을 바로 알아내는 그런 엔진을 만들어 낼 수가 있습니다"
   ]
  },
  {
   "cell_type": "markdown",
   "metadata": {},
   "source": [
    "=> 내부적으로는 Cognitive Service의 하나로 Service가 제공이 된다라고 보면 된다  \n",
    "\n",
    "\n",
    "사용하는 단계  \n",
    "\n",
    "1) 기본적으로 image를 업로드 시키고  \n",
    "2) 그 다음에 학습을 시키고  \n",
    "3) 그 다음에 확인해 보고  \n",
    "4) 정말 쓸 만한 퀄리티의 어떤 모델이다라고 하면 바로 배포를 해서 사용  \n",
    "\n",
    "단계들을 거치게 됩니다 "
   ]
  },
  {
   "cell_type": "markdown",
   "metadata": {},
   "source": [
    "여기서 image를 올릴 때 태그 작업 필요 => labeling\n",
    "\n",
    "즉 custom vision service 역시 전형적인 supervised learning"
   ]
  },
  {
   "cell_type": "code",
   "execution_count": 13,
   "metadata": {},
   "outputs": [
    {
     "name": "stdout",
     "output_type": "stream",
     "text": [
      "Requirement already satisfied: azure-cognitiveservices-vision-customvision in c:\\users\\user\\anaconda3\\lib\\site-packages (3.0.0)\n",
      "Requirement already satisfied: azure-common~=1.1 in c:\\users\\user\\anaconda3\\lib\\site-packages (from azure-cognitiveservices-vision-customvision) (1.1.25)\n",
      "Requirement already satisfied: msrest>=0.5.0 in c:\\users\\user\\anaconda3\\lib\\site-packages (from azure-cognitiveservices-vision-customvision) (0.6.17)\n",
      "Requirement already satisfied: isodate>=0.6.0 in c:\\users\\user\\anaconda3\\lib\\site-packages (from msrest>=0.5.0->azure-cognitiveservices-vision-customvision) (0.6.0)\n",
      "Requirement already satisfied: requests-oauthlib>=0.5.0 in c:\\users\\user\\anaconda3\\lib\\site-packages (from msrest>=0.5.0->azure-cognitiveservices-vision-customvision) (1.3.0)\n",
      "Requirement already satisfied: certifi>=2017.4.17 in c:\\users\\user\\anaconda3\\lib\\site-packages (from msrest>=0.5.0->azure-cognitiveservices-vision-customvision) (2019.11.28)\n",
      "Requirement already satisfied: requests~=2.16 in c:\\users\\user\\anaconda3\\lib\\site-packages (from msrest>=0.5.0->azure-cognitiveservices-vision-customvision) (2.22.0)\n",
      "Requirement already satisfied: six in c:\\users\\user\\anaconda3\\lib\\site-packages (from isodate>=0.6.0->msrest>=0.5.0->azure-cognitiveservices-vision-customvision) (1.14.0)\n",
      "Requirement already satisfied: oauthlib>=3.0.0 in c:\\users\\user\\anaconda3\\lib\\site-packages (from requests-oauthlib>=0.5.0->msrest>=0.5.0->azure-cognitiveservices-vision-customvision) (3.1.0)\n",
      "Requirement already satisfied: chardet<3.1.0,>=3.0.2 in c:\\users\\user\\anaconda3\\lib\\site-packages (from requests~=2.16->msrest>=0.5.0->azure-cognitiveservices-vision-customvision) (3.0.4)\n",
      "Requirement already satisfied: urllib3!=1.25.0,!=1.25.1,<1.26,>=1.21.1 in c:\\users\\user\\anaconda3\\lib\\site-packages (from requests~=2.16->msrest>=0.5.0->azure-cognitiveservices-vision-customvision) (1.25.8)\n",
      "Requirement already satisfied: idna<2.9,>=2.5 in c:\\users\\user\\anaconda3\\lib\\site-packages (from requests~=2.16->msrest>=0.5.0->azure-cognitiveservices-vision-customvision) (2.8)\n"
     ]
    }
   ],
   "source": [
    "!pip install azure-cognitiveservices-vision-customvision"
   ]
  },
  {
   "cell_type": "code",
   "execution_count": 45,
   "metadata": {},
   "outputs": [],
   "source": [
    "from azure.cognitiveservices.vision.customvision.training import CustomVisionTrainingClient\n",
    "from azure.cognitiveservices.vision.customvision.training.models import ImageFileCreateEntry\n",
    "from msrest.authentication import ApiKeyCredentials"
   ]
  },
  {
   "cell_type": "markdown",
   "metadata": {},
   "source": [
    "customvision.ai 접속  \n"
   ]
  },
  {
   "cell_type": "code",
   "execution_count": 46,
   "metadata": {},
   "outputs": [],
   "source": [
    "ENDPOINT = \"https://kmooc-customvsion.cognitiveservices.azure.com/\"\n",
    "\n",
    "#Replace with a valid key\n",
    "training_key = \"abba04077d2c49ff8169d1e6a71897e4\"\n",
    "\n",
    "# customvision.ai 들어가면 구할 수 있음\n",
    "prediction_key = \"d7f6507b66734de592e123b75d3adb4a\"\n",
    "prediction_resource_id = \"/subscriptions/4dcb7ec8-efdd-4774-8a4a-99fc230d61f0/resourceGroups/KMOOC/providers/Microsoft.CognitiveServices/accounts/KMOOCCustomVsion-Prediction\""
   ]
  },
  {
   "cell_type": "code",
   "execution_count": 47,
   "metadata": {},
   "outputs": [],
   "source": [
    "publish_iteration_name = \"classifyModel\"\n",
    "\n",
    "credentials = ApiKeyCredentials(in_headers={\"Training-key\": training_key})\n",
    "trainer = CustomVisionTrainingClient(ENDPOINT, credentials)"
   ]
  },
  {
   "cell_type": "code",
   "execution_count": 48,
   "metadata": {},
   "outputs": [
    {
     "name": "stdout",
     "output_type": "stream",
     "text": [
      "creaing project...\n"
     ]
    }
   ],
   "source": [
    "#create a new project\n",
    "\n",
    "print(\"creaing project...\")\n",
    "project = trainer.create_project(\"My New Project\")"
   ]
  },
  {
   "cell_type": "code",
   "execution_count": 49,
   "metadata": {},
   "outputs": [],
   "source": [
    "# Make three tags in the new project\n",
    "Jajangmyeon_tag = trainer.create_tag(project.id, \"Jajangmyeonn\")\n",
    "Champon_tag = trainer.create_tag(project.id, \"Champonn\")\n",
    "Tangsuyug_tag = trainer.create_tag(project.id, \"Tangsuyugg\")"
   ]
  },
  {
   "cell_type": "code",
   "execution_count": 50,
   "metadata": {},
   "outputs": [
    {
     "name": "stdout",
     "output_type": "stream",
     "text": [
      "Training...\n",
      "Training statusTraining\n",
      "Training statusTraining\n",
      "Training statusTraining\n",
      "Training statusTraining\n",
      "Training statusTraining\n",
      "Training statusTraining\n",
      "Training statusTraining\n",
      "Training statusTraining\n",
      "Training statusTraining\n",
      "Training statusTraining\n",
      "Training statusTraining\n",
      "Training statusTraining\n",
      "Training statusTraining\n",
      "Training statusTraining\n",
      "Training statusTraining\n",
      "Training statusTraining\n",
      "Training statusTraining\n",
      "Training statusTraining\n",
      "Training statusTraining\n",
      "Training statusTraining\n",
      "Training statusTraining\n",
      "Training statusTraining\n",
      "Training statusTraining\n",
      "Training statusTraining\n",
      "Training statusTraining\n",
      "Training statusTraining\n",
      "Training statusTraining\n",
      "Training statusTraining\n",
      "Training statusTraining\n",
      "Training statusTraining\n",
      "Training statusTraining\n",
      "Training statusTraining\n",
      "Training statusTraining\n",
      "Training statusTraining\n",
      "Training statusTraining\n",
      "Training statusTraining\n",
      "Training statusTraining\n",
      "Training statusTraining\n",
      "Training statusTraining\n",
      "Training statusTraining\n",
      "Training statusTraining\n",
      "Training statusCompleted\n",
      "Done!\n"
     ]
    }
   ],
   "source": [
    "import time\n",
    "\n",
    "print(\"Training...\")\n",
    "iteration = trainer.train_project(project.id)\n",
    "while (iteration.status != \"Completed\"):\n",
    "    iteration = trainer.get_iteration(project.id, iteration.id)\n",
    "    print(\"Training status\" + iteration.status)\n",
    "    time.sleep(1)\n",
    "    \n",
    "# The iteration is now trained. Publish it to the project endpoint\n",
    "trainer.publish_iteration(project.id, iteration.id, publish_iteration_name, prediction_resource_id)\n",
    "print(\"Done!\")"
   ]
  },
  {
   "cell_type": "code",
   "execution_count": 51,
   "metadata": {},
   "outputs": [],
   "source": [
    "from azure.cognitiveservices.vision.customvision.prediction import CustomVisionPredictionClient"
   ]
  },
  {
   "cell_type": "code",
   "execution_count": 56,
   "metadata": {},
   "outputs": [],
   "source": [
    "prediction_credentials = ApiKeyCredentials(in_headers={\"Prediction-key\": prediction_key})\n",
    "predictor = CustomVisionPredictionClient(ENDPOINT, prediction_credentials)"
   ]
  },
  {
   "cell_type": "code",
   "execution_count": 57,
   "metadata": {},
   "outputs": [],
   "source": [
    "targete_image_url = \"https://i.ytimg.com/vi/JdsyIev3dms/maxresdefault.jpg\"\n",
    "results = predictor.classify_image_url(project.id, publish_iteration_name, targete_image_url)"
   ]
  },
  {
   "cell_type": "code",
   "execution_count": 61,
   "metadata": {},
   "outputs": [
    {
     "name": "stdout",
     "output_type": "stream",
     "text": [
      "\tJajangmyeonn: 99.97% \n",
      "\tTangsuyugg: 0.00% \n",
      "\tChamponn: 0.00% \n"
     ]
    }
   ],
   "source": [
    "for prediction in results.predictions:\n",
    "    print(\"\\t\" + prediction.tag_name + \": {0:.2f}% \".format(prediction.probability * 100))"
   ]
  },
  {
   "cell_type": "code",
   "execution_count": null,
   "metadata": {},
   "outputs": [],
   "source": []
  }
 ],
 "metadata": {
  "kernelspec": {
   "display_name": "Python 3",
   "language": "python",
   "name": "python3"
  },
  "language_info": {
   "codemirror_mode": {
    "name": "ipython",
    "version": 3
   },
   "file_extension": ".py",
   "mimetype": "text/x-python",
   "name": "python",
   "nbconvert_exporter": "python",
   "pygments_lexer": "ipython3",
   "version": "3.7.6"
  }
 },
 "nbformat": 4,
 "nbformat_minor": 4
}
