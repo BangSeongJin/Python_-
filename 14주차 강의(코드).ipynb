{
 "cells": [
  {
   "cell_type": "markdown",
   "metadata": {},
   "source": [
    "## Language Understanding"
   ]
  },
  {
   "cell_type": "code",
   "execution_count": 1,
   "metadata": {},
   "outputs": [],
   "source": [
    "import requests\n",
    "import json"
   ]
  },
  {
   "cell_type": "code",
   "execution_count": 2,
   "metadata": {},
   "outputs": [
    {
     "name": "stdout",
     "output_type": "stream",
     "text": [
      "https://kmooc--luis.cognitiveservices.azure.com/luis/prediction/v3.0/apps/03036383-37c6-49bc-acca-eaaff4594c23/slots/production/predict?subscription-key=0a1dff9d2e744793b5351d1d3c42c9b8&verbose=true&show-all-intents=true&log=true&query=자장면 두그릇 보내줘\n"
     ]
    }
   ],
   "source": [
    "try:\n",
    "    \n",
    "    key = \"0a1dff9d2e744793b5351d1d3c42c9b8\"  # primary key\n",
    "    endpoint = \"https://kmooc--luis.cognitiveservices.azure.com\"\n",
    "    appId = \"03036383-37c6-49bc-acca-eaaff4594c23\"\n",
    "    utterance = '자장면 두그릇 보내줘'\n",
    "    \n",
    "    headers = {\n",
    "    }\n",
    "    \n",
    "    params = {\n",
    "        'query': utterance,\n",
    "        'timezoneOffset': '0',\n",
    "        'verbose': 'true',\n",
    "        'show-all-intents': 'true',\n",
    "        'spellCheck': 'flase',\n",
    "        'staging': 'false',\n",
    "        'subscription-key': key\n",
    "    }\n",
    "    \n",
    "    str = '%s/luis/prediction/v3.0/apps/%s/slots/production/predict?subscription-key=%s&verbose=true&show-all-intents=true&log=true&query=%s'%(endpoint, appId, key, utterance)\n",
    "    print(str)\n",
    "    r = requests.get(str)\n",
    "    \n",
    "except Exception as e:\n",
    "    print(f'{e}')"
   ]
  },
  {
   "cell_type": "code",
   "execution_count": 3,
   "metadata": {},
   "outputs": [
    {
     "data": {
      "text/plain": [
       "{'query': '자장면 두그릇 보내줘',\n",
       " 'prediction': {'topIntent': 'Order',\n",
       "  'intents': {'Order': {'score': 0.944908261},\n",
       "   'Greeting': {'score': 0.03337702},\n",
       "   'None': {'score': 0.01070797}},\n",
       "  'entities': {'menu': ['자장면'],\n",
       "   'quantity': ['두그릇'],\n",
       "   '$instance': {'menu': [{'type': 'menu',\n",
       "      'text': '자장면',\n",
       "      'startIndex': 0,\n",
       "      'length': 3,\n",
       "      'score': 0.9557732,\n",
       "      'modelTypeId': 1,\n",
       "      'modelType': 'Entity Extractor',\n",
       "      'recognitionSources': ['model']}],\n",
       "    'quantity': [{'type': 'quantity',\n",
       "      'text': '두그릇',\n",
       "      'startIndex': 4,\n",
       "      'length': 3,\n",
       "      'score': 0.979479,\n",
       "      'modelTypeId': 1,\n",
       "      'modelType': 'Entity Extractor',\n",
       "      'recognitionSources': ['model']}]}}}}"
      ]
     },
     "execution_count": 3,
     "metadata": {},
     "output_type": "execute_result"
    }
   ],
   "source": [
    "r.json()"
   ]
  },
  {
   "cell_type": "code",
   "execution_count": null,
   "metadata": {},
   "outputs": [],
   "source": []
  }
 ],
 "metadata": {
  "kernelspec": {
   "display_name": "Python 3",
   "language": "python",
   "name": "python3"
  },
  "language_info": {
   "codemirror_mode": {
    "name": "ipython",
    "version": 3
   },
   "file_extension": ".py",
   "mimetype": "text/x-python",
   "name": "python",
   "nbconvert_exporter": "python",
   "pygments_lexer": "ipython3",
   "version": "3.7.6"
  }
 },
 "nbformat": 4,
 "nbformat_minor": 4
}
