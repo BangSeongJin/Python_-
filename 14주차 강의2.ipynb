{
 "cells": [
  {
   "cell_type": "markdown",
   "metadata": {},
   "source": [
    "## 2. AutoML 서비스 이해와 실습"
   ]
  },
  {
   "cell_type": "markdown",
   "metadata": {},
   "source": [
    "#### AutoML\n",
    "\n",
    ": 머신러닝도 괸장히 귀납적인 과정이라고 할 수 있다. 어떤 문제를 찾아내는 과정이 한번에 이렇게 내가 원하는 목표를 얻을 수 없기 때문에 이렇게도 해보고 저렇게도 해보고 하면서 정답에 가까워지는 과정이 머신러닝이라고 할 수 있기 때문이다.\n",
    "\n",
    " 그러면 우리가 적당한 모델을 찾아냈다라고 하면 그 모델 잘 만든 다음에 그걸로 서비스를 만들어서 클라우드 또는 웹서버든지 적당한 곳에 배포를 하게 된다. \n",
    " \n",
    " 이 일련의 과정이 머신러닝의 과정이다 라고 얘기를 할 수가 있는데 머신러닝도 이제 시간이 좀 지나면서 빠르게 그런 과정들이 자동화되고 있고 이런 것들에 정점에 있는 서비스가 AutoML이다."
   ]
  },
  {
   "cell_type": "markdown",
   "metadata": {},
   "source": [
    "똑같은 training set에 대해서 algoritm을 뭘로 쓰냐가 큰 영향을 미친다. 이 algoritm에 따라서 model의 정확도가 달라진다. 따라서 기계가 여러 algoritm을 적용해보면서 가장 정확도가 좋은 algorithm을 찾는다."
   ]
  },
  {
   "cell_type": "markdown",
   "metadata": {},
   "source": [
    "그 다음 적당한 algorithm 이 몇 개 주어지면 파라미터값도 역시 바꿔가면서 가장 최상의 파라메타를 찾아낸다."
   ]
  },
  {
   "cell_type": "markdown",
   "metadata": {},
   "source": [
    "자 그러면 이 모델에 대한 테스트 결과들이 좀 매트릭이 되어서 나오고 우리는 그 중에서 가장 마음에 드는 결과를 바로 선택을 해서 바로 다운로드를 받아서 파이썬에서 활용을 하거나 아니면 그걸 바로 클라우드에 배포를 해서 바로 업무에 적용할 수 있는 그런 형태로 사용할 수가 있습니다"
   ]
  },
  {
   "cell_type": "code",
   "execution_count": null,
   "metadata": {},
   "outputs": [],
   "source": []
  }
 ],
 "metadata": {
  "kernelspec": {
   "display_name": "Python 3",
   "language": "python",
   "name": "python3"
  },
  "language_info": {
   "codemirror_mode": {
    "name": "ipython",
    "version": 3
   },
   "file_extension": ".py",
   "mimetype": "text/x-python",
   "name": "python",
   "nbconvert_exporter": "python",
   "pygments_lexer": "ipython3",
   "version": "3.7.6"
  }
 },
 "nbformat": 4,
 "nbformat_minor": 4
}
